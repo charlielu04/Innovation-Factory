from ultralytics import YOLO

# Load a model
# model = YOLO("yolov8n.yaml")  # build a new model from scratch
model = YOLO("yolov8m.pt")  # load a pretrained model (recommended for training)

# Use the model
model.train(data="yolov5\datasets\wally-dset-v2-10\data.yaml", epochs=3)  # train the model
metrics = model.val()  # evaluate model performance on the validation set
results = model("yolov5\datasets\wally-dset-v2-10\valid\images\5_jpg.rf.75f3bbe02b7bac6afef74b93ee75608e.jpg")  # predict on an image
success = model.export(format="onnx")  # export the model to ONNX format