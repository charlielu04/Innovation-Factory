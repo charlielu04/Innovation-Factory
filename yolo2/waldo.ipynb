{
 "cells": [
  {
   "attachments": {},
   "cell_type": "markdown",
   "metadata": {},
   "source": [
    "Setup"
   ]
  },
  {
   "cell_type": "code",
   "execution_count": 19,
   "metadata": {},
   "outputs": [
    {
     "name": "stdout",
     "output_type": "stream",
     "text": [
      "Setup complete. Using torch 1.13.1+cpu (CPU)\n",
      "upload and label your dataset, and get an API KEY here: https://app.roboflow.com/?model=yolov5&ref=ultralytics\n"
     ]
    }
   ],
   "source": [
    "# !git clone https://github.com/ultralytics/yolov5\n",
    "# %cd yolov5\n",
    "# %pip install -qr requirements.txt\n",
    "# %pip install -q roboflow\n",
    "\n",
    "import torch\n",
    "import os\n",
    "from IPython.display import Image, clear_output\n",
    "print(f\"Setup complete. Using torch {torch.__version__} ({torch.cuda.get_device_properties(0).name if torch.cuda.is_available() else 'CPU'})\")\n",
    "\n",
    "from roboflow import Roboflow\n",
    "rf = Roboflow(model_format=\"yolov5\", notebook=\"ultralytics\")"
   ]
  },
  {
   "cell_type": "code",
   "execution_count": 20,
   "metadata": {},
   "outputs": [
    {
     "name": "stdout",
     "output_type": "stream",
     "text": [
      "loading Roboflow workspace...\n",
      "loading Roboflow project...\n",
      "Downloading Dataset Version Zip in datasets/wally-dset-v2-10 to yolov5pytorch: 100% [44968012 / 44968012] bytes\n"
     ]
    },
    {
     "name": "stderr",
     "output_type": "stream",
     "text": [
      "Extracting Dataset Version Zip to datasets/wally-dset-v2-10 in yolov5pytorch:: 100%|██████████| 274/274 [00:00<00:00, 2021.95it/s]\n"
     ]
    }
   ],
   "source": [
    "os.environ[\"DATASET_DIRECTORY\"] = \"datasets\"\n",
    "\n",
    "# !pip install roboflow\n",
    "\n",
    "from roboflow import Roboflow\n",
    "rf = Roboflow(api_key=\"4yGW1ceJlCEqjNUxNEuf\")\n",
    "project = rf.workspace(\"kurtis-brandt\").project(\"wally-dset-v2\")\n",
    "dataset = project.version(10).download(\"yolov5\")"
   ]
  },
  {
   "cell_type": "code",
   "execution_count": 21,
   "metadata": {},
   "outputs": [],
   "source": [
    "!python train.py --img 416 --batch 16 --epochs 100 --data datasets\\wally-dset-v2-10\\data.yaml --weights yolov5l.pt --cache"
   ]
  },
  {
   "cell_type": "code",
   "execution_count": null,
   "metadata": {},
   "outputs": [],
   "source": [
    "%load_ext tensorboard\n",
    "%tensorboard --logdir runs"
   ]
  },
  {
   "attachments": {},
   "cell_type": "markdown",
   "metadata": {},
   "source": [
    "Prediction"
   ]
  },
  {
   "cell_type": "code",
   "execution_count": null,
   "metadata": {},
   "outputs": [
    {
     "name": "stderr",
     "output_type": "stream",
     "text": [
      "\u001b[34m\u001b[1mdetect: \u001b[0mweights=['runs/train/exp/weights/best.pt'], source=valid/images, data=data\\coco128.yaml, imgsz=[416, 416], conf_thres=0.1, iou_thres=0.45, max_det=1000, device=, view_img=False, save_txt=False, save_conf=False, save_crop=False, nosave=False, classes=None, agnostic_nms=False, augment=False, visualize=False, update=False, project=runs\\detect, name=exp, exist_ok=False, line_thickness=3, hide_labels=False, hide_conf=False, half=False, dnn=False, vid_stride=1\n",
      "fatal: cannot change to 'C:\\Users\\charl\\VSCode': No such file or directory\n",
      "YOLOv5  2023-2-23 Python-3.9.16 torch-1.13.1+cpu CPU\n",
      "\n",
      "Fusing layers... \n",
      "Model summary: 157 layers, 7012822 parameters, 0 gradients, 15.8 GFLOPs\n",
      "image 1/2 C:\\Users\\charl\\VSCode Projects\\CMSC330\\project0\\project-1b-charlielu04\\Innovation-Factory\\yolo2\\yolov5\\valid\\images\\11_jpg.rf.f4afdd0f044339b2be387801574a180e.jpg: 288x416 5 Waldos, 40.0ms\n",
      "image 2/2 C:\\Users\\charl\\VSCode Projects\\CMSC330\\project0\\project-1b-charlielu04\\Innovation-Factory\\yolo2\\yolov5\\valid\\images\\Wheres-Waldo_Google-Maps_Screenshot-1920x1440.jpg: 320x416 1 Waldo, 43.1ms\n",
      "Speed: 0.0ms pre-process, 41.6ms inference, 0.0ms NMS per image at shape (1, 3, 416, 416)\n",
      "Results saved to \u001b[1mruns\\detect\\exp5\u001b[0m\n"
     ]
    }
   ],
   "source": [
    "!python detect.py --weights runs/train/exp/weights/best.pt --img 416 --conf 0.1 --source datasets\\wally-dset-v2-10\\valid\\images"
   ]
  }
 ],
 "metadata": {
  "kernelspec": {
   "display_name": "innovationFactory",
   "language": "python",
   "name": "python3"
  },
  "language_info": {
   "codemirror_mode": {
    "name": "ipython",
    "version": 3
   },
   "file_extension": ".py",
   "mimetype": "text/x-python",
   "name": "python",
   "nbconvert_exporter": "python",
   "pygments_lexer": "ipython3",
   "version": "3.9.16"
  },
  "orig_nbformat": 4,
  "vscode": {
   "interpreter": {
    "hash": "01602fcf64e1cf82a0fb5d07e924522630da0482c7b734bbdc2e0b4c94891447"
   }
  }
 },
 "nbformat": 4,
 "nbformat_minor": 2
}
